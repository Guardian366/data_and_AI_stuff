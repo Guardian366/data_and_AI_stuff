{
 "cells": [
  {
   "cell_type": "code",
   "execution_count": 2,
   "metadata": {},
   "outputs": [
    {
     "data": {
      "application/vnd.jupyter.widget-view+json": {
       "model_id": "bb5c74f015904cc5bb6d84bff37de9e4",
       "version_major": 2,
       "version_minor": 0
      },
      "text/plain": [
       "Dropdown(description='300:', layout=Layout(width='70%'), options=('Mr. 3000 (2004)', '300 (2007)', 'Animal Cra…"
      ]
     },
     "metadata": {},
     "output_type": "display_data"
    },
    {
     "data": {
      "application/vnd.jupyter.widget-view+json": {
       "model_id": "76b0b72cac7141dab5633568630372e8",
       "version_major": 2,
       "version_minor": 0
      },
      "text/plain": [
       "Dropdown(description='Black Panther:', layout=Layout(width='70%'), options=('Black Panther (2017)', 'Fear of a…"
      ]
     },
     "metadata": {},
     "output_type": "display_data"
    },
    {
     "data": {
      "application/vnd.jupyter.widget-view+json": {
       "model_id": "4966987511d84824aaee66edb2ef2945",
       "version_major": 2,
       "version_minor": 0
      },
      "text/plain": [
       "Dropdown(description='School of Rock:', layout=Layout(width='70%'), options=('School of Rock (2003)', 'Father …"
      ]
     },
     "metadata": {},
     "output_type": "display_data"
    },
    {
     "data": {
      "application/vnd.jupyter.widget-view+json": {
       "model_id": "aa0442516a814c1395e7ffd70033b7ea",
       "version_major": 2,
       "version_minor": 0
      },
      "text/plain": [
       "Dropdown(description='Moana:', layout=Layout(width='70%'), options=('Moana (2016)', 'Mona Lisa (1986)', 'Drown…"
      ]
     },
     "metadata": {},
     "output_type": "display_data"
    },
    {
     "data": {
      "application/vnd.jupyter.widget-view+json": {
       "model_id": "4a53214722e44dc686b54468e9d41ee9",
       "version_major": 2,
       "version_minor": 0
      },
      "text/plain": [
       "Button(description='Get Recommendations', style=ButtonStyle())"
      ]
     },
     "metadata": {},
     "output_type": "display_data"
    }
   ],
   "source": [
    "import pandas as pd\n",
    "import os\n",
    "from sklearn.metrics.pairwise import cosine_similarity\n",
    "import numpy as np\n",
    "from fuzzywuzzy import process\n",
    "\n",
    "# Get the current working directory\n",
    "current_dir = os.getcwd()\n",
    "\n",
    "# Define the path to the dataset directory relative to the current working directory\n",
    "dataset_dir = os.path.join(current_dir, 'ml-latest-small')\n",
    "\n",
    "# Load MovieLens data\n",
    "movies = pd.read_csv(os.path.join(dataset_dir, 'movies.csv'))\n",
    "ratings = pd.read_csv(os.path.join(dataset_dir, 'ratings.csv'))\n",
    "\n",
    "# Merge movies and ratings datasets\n",
    "data = pd.merge(ratings, movies, on='movieId')\n",
    "\n",
    "# Create a user-movie matrix\n",
    "user_movie_matrix = data.pivot_table(index='userId', columns='title', values='rating')\n",
    "\n",
    "# Fill NaN values with 0\n",
    "user_movie_matrix = user_movie_matrix.fillna(0)\n",
    "\n",
    "# Compute cosine similarity between users\n",
    "user_similarity = cosine_similarity(user_movie_matrix)\n",
    "user_similarity_matrix = pd.DataFrame(user_similarity, index=user_movie_matrix.index, columns=user_movie_matrix.index)\n",
    "\n",
    "# Function to get movie recommendations based on user's liked movies\n",
    "def get_recommendations_from_likes(liked_movies, num_recommendations=5):\n",
    "    # Create a new user profile based on the liked movies\n",
    "    new_user_profile = pd.Series(0, index=user_movie_matrix.columns)\n",
    "    for movie in liked_movies:\n",
    "        if movie in new_user_profile.index:\n",
    "            new_user_profile[movie] = 5  # Assign the highest rating to liked movies\n",
    "\n",
    "    # Compute similarity between the new user and existing users\n",
    "    new_user_similarity = cosine_similarity([new_user_profile], user_movie_matrix)[0]\n",
    "\n",
    "    # Compute weighted ratings\n",
    "    weighted_ratings = np.dot(new_user_similarity, user_movie_matrix) / np.array([np.abs(new_user_similarity).sum()])\n",
    "    recommendations = pd.Series(weighted_ratings, index=user_movie_matrix.columns).sort_values(ascending=False).head(num_recommendations + len(liked_movies))\n",
    "\n",
    "    # Filter out already liked movies\n",
    "    recommendations = recommendations[~recommendations.index.isin(liked_movies)]\n",
    "    \n",
    "    return recommendations.index.tolist()[:num_recommendations]\n",
    "\n",
    "# Function to get the closest movie title matches\n",
    "def get_closest_matches(query, choices, n=1):\n",
    "    return process.extract(query, choices, limit=n)\n",
    "\n",
    "# Get user input\n",
    "liked_movies_input = input(\"Enter the movies you liked, separated by commas: \").split(',')\n",
    "\n",
    "# Clean up the user input\n",
    "liked_movies_input = [movie.strip() for movie in liked_movies_input]\n",
    "\n",
    "# Get the closest matches for each input movie\n",
    "all_movies = movies['title'].tolist()\n",
    "liked_movies = []\n",
    "for movie in liked_movies_input:\n",
    "    match = get_closest_matches(movie, all_movies, n=1)\n",
    "    if match:\n",
    "        matched_movie = match[0][0]\n",
    "        confirm = input(f\"Did you mean '{matched_movie}'? (yes/no): \").strip().lower()\n",
    "        if confirm == 'yes':\n",
    "            liked_movies.append(matched_movie)\n",
    "\n",
    "# Get recommendations\n",
    "recommendations = get_recommendations_from_likes(liked_movies)\n",
    "print(f\"Recommendations based on your liked movies: {recommendations}\")\n"
   ]
  }
 ],
 "metadata": {
  "kernelspec": {
   "display_name": "Python 3",
   "language": "python",
   "name": "python3"
  },
  "language_info": {
   "codemirror_mode": {
    "name": "ipython",
    "version": 3
   },
   "file_extension": ".py",
   "mimetype": "text/x-python",
   "name": "python",
   "nbconvert_exporter": "python",
   "pygments_lexer": "ipython3",
   "version": "3.11.9"
  }
 },
 "nbformat": 4,
 "nbformat_minor": 2
}
